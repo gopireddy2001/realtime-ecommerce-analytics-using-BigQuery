{
  "nbformat": 4,
  "nbformat_minor": 0,
  "metadata": {
    "colab": {
      "provenance": []
    },
    "kernelspec": {
      "name": "python3",
      "display_name": "Python 3"
    },
    "language_info": {
      "name": "python"
    }
  },
  "cells": [
    {
      "cell_type": "code",
      "execution_count": 43,
      "metadata": {
        "id": "IOqYgLsP_fwE"
      },
      "outputs": [],
      "source": [
        "# Step 1: Install Required Libraries the BigQuery library and faker:\n",
        "!pip install --quiet google-cloud-bigquery faker\n"
      ]
    },
    {
      "cell_type": "code",
      "source": [
        "#Step 2: Authenticate Google Account\n",
        "from google.colab import auth\n",
        "auth.authenticate_user()\n"
      ],
      "metadata": {
        "id": "fLzy4p3TOZZg"
      },
      "execution_count": 44,
      "outputs": []
    },
    {
      "cell_type": "code",
      "source": [
        "#Step 3: Initialize BigQuery Client and Set Project Info Insert Fake Data\n",
        "from google.cloud import bigquery\n",
        "import random\n",
        "from faker import Faker\n",
        "from datetime import datetime\n",
        "\n",
        "# Initialize Faker for generating fake data\n",
        "fake = Faker()\n",
        "\n",
        "# Your actual Google Cloud Project ID (all lowercase, no spaces)\n",
        "project_id = \"realtimeecommerceanalytics\"  # Replace this if your project ID is different\n",
        "\n",
        "# Initialize BigQuery client with the project ID\n",
        "client = bigquery.Client(project=project_id)\n",
        "\n",
        "# Confirm project ID detected by the client\n",
        "print(\"Using project:\", client.project)\n"
      ],
      "metadata": {
        "colab": {
          "base_uri": "https://localhost:8080/"
        },
        "id": "rYNHym3QNY9x",
        "outputId": "3fcc0787-7e8c-473d-ca18-66bb5ef1ea31"
      },
      "execution_count": 45,
      "outputs": [
        {
          "output_type": "stream",
          "name": "stdout",
          "text": [
            "Using project: realtimeecommerceanalytics\n"
          ]
        }
      ]
    },
    {
      "cell_type": "code",
      "source": [
        "# Step 4:Create Table with Schema\n",
        "schema = [\n",
        "    bigquery.SchemaField(\"order_id\", \"STRING\", mode=\"REQUIRED\"),\n",
        "    bigquery.SchemaField(\"timestamp\", \"TIMESTAMP\", mode=\"REQUIRED\"),\n",
        "    bigquery.SchemaField(\"product_id\", \"STRING\", mode=\"REQUIRED\"),\n",
        "    bigquery.SchemaField(\"category\", \"STRING\", mode=\"NULLABLE\"),\n",
        "    bigquery.SchemaField(\"price\", \"FLOAT\", mode=\"REQUIRED\"),\n",
        "    bigquery.SchemaField(\"quantity\", \"INTEGER\", mode=\"REQUIRED\"),\n",
        "    bigquery.SchemaField(\"location\", \"STRING\", mode=\"NULLABLE\"),\n",
        "    bigquery.SchemaField(\"stock_remaining\", \"INTEGER\", mode=\"NULLABLE\"),\n",
        "]\n",
        "\n",
        "table = bigquery.Table(table_id, schema=schema)\n",
        "try:\n",
        "    table = client.create_table(table, exists_ok=True)\n",
        "    print(f\"Table '{table.table_id}' created or already exists.\")\n",
        "except Exception as e:\n",
        "    print(\"Error creating table:\", e)\n"
      ],
      "metadata": {
        "colab": {
          "base_uri": "https://localhost:8080/"
        },
        "id": "sgaZg0E-L3R2",
        "outputId": "2f9e2458-9d57-4e10-f052-31ccaa61543f"
      },
      "execution_count": 46,
      "outputs": [
        {
          "output_type": "stream",
          "name": "stdout",
          "text": [
            "Table 'orders' created or already exists.\n"
          ]
        }
      ]
    },
    {
      "cell_type": "code",
      "source": [
        "# Step5: Generate fake data\n",
        "def generate_fake_order():\n",
        "    categories = ['Electronics', 'Fitness', 'Clothing', 'Home']\n",
        "    return {\n",
        "        \"order_id\": fake.uuid4(),\n",
        "        \"timestamp\": datetime.utcnow().isoformat(),\n",
        "        \"product_id\": str(random.randint(1000, 9999)),\n",
        "        \"category\": random.choice(categories),\n",
        "        \"price\": round(random.uniform(10.0, 500.0), 2),\n",
        "        \"quantity\": random.randint(1, 5),\n",
        "        \"location\": fake.city(),\n",
        "        \"stock_remaining\": random.randint(0, 50)\n",
        "    }\n"
      ],
      "metadata": {
        "id": "ElrAK-YSNwAF"
      },
      "execution_count": 47,
      "outputs": []
    },
    {
      "cell_type": "code",
      "source": [
        "#Step 6: Insert Data into BigQuery (Standard Tier Only)\n",
        "def insert_order_batch(order):\n",
        "    job = client.load_table_from_json([order], table_id)\n",
        "    job.result()\n",
        "    print(\"Inserted 1 order via batch.\")\n"
      ],
      "metadata": {
        "id": "fRO3XJB9TzuF"
      },
      "execution_count": 48,
      "outputs": []
    },
    {
      "cell_type": "code",
      "source": [
        "#Insert Many Orders with a Loop\n",
        "for _ in range(30):\n",
        "    order = generate_fake_order()\n",
        "    insert_order_batch(order)\n"
      ],
      "metadata": {
        "colab": {
          "base_uri": "https://localhost:8080/"
        },
        "id": "1K4_NfDTT54A",
        "outputId": "c7443f66-f1f5-432f-87d3-3fe31a205caa"
      },
      "execution_count": 49,
      "outputs": [
        {
          "output_type": "stream",
          "name": "stdout",
          "text": [
            "Inserted 1 order via batch.\n",
            "Inserted 1 order via batch.\n",
            "Inserted 1 order via batch.\n",
            "Inserted 1 order via batch.\n",
            "Inserted 1 order via batch.\n",
            "Inserted 1 order via batch.\n",
            "Inserted 1 order via batch.\n",
            "Inserted 1 order via batch.\n",
            "Inserted 1 order via batch.\n",
            "Inserted 1 order via batch.\n",
            "Inserted 1 order via batch.\n",
            "Inserted 1 order via batch.\n",
            "Inserted 1 order via batch.\n",
            "Inserted 1 order via batch.\n",
            "Inserted 1 order via batch.\n",
            "Inserted 1 order via batch.\n",
            "Inserted 1 order via batch.\n",
            "Inserted 1 order via batch.\n",
            "Inserted 1 order via batch.\n",
            "Inserted 1 order via batch.\n",
            "Inserted 1 order via batch.\n",
            "Inserted 1 order via batch.\n",
            "Inserted 1 order via batch.\n",
            "Inserted 1 order via batch.\n",
            "Inserted 1 order via batch.\n",
            "Inserted 1 order via batch.\n",
            "Inserted 1 order via batch.\n",
            "Inserted 1 order via batch.\n",
            "Inserted 1 order via batch.\n",
            "Inserted 1 order via batch.\n"
          ]
        }
      ]
    },
    {
      "cell_type": "code",
      "source": [
        "query = f\"\"\"\n",
        "SELECT\n",
        "  category,\n",
        "  COUNT(order_id) AS total_orders,\n",
        "  ROUND(SUM(price * quantity), 2) AS total_revenue\n",
        "FROM `{table_id}`\n",
        "GROUP BY category\n",
        "ORDER BY total_revenue DESC\n",
        "\"\"\"\n",
        "\n",
        "query_job = client.query(query)\n",
        "results = query_job.result().to_dataframe()\n",
        "\n",
        "results.head()\n"
      ],
      "metadata": {
        "colab": {
          "base_uri": "https://localhost:8080/",
          "height": 175
        },
        "id": "4zKT2WIhT89z",
        "outputId": "952ede05-f1d0-4fa1-e538-8446491b1391"
      },
      "execution_count": 50,
      "outputs": [
        {
          "output_type": "execute_result",
          "data": {
            "text/plain": [
              "      category  total_orders  total_revenue\n",
              "0         Home            22       17179.54\n",
              "1  Electronics            21       15454.56\n",
              "2      Fitness            20       11571.28\n",
              "3     Clothing            19       10124.06"
            ],
            "text/html": [
              "\n",
              "  <div id=\"df-2fa2761e-ce5b-4358-ae43-fab0af1258a7\" class=\"colab-df-container\">\n",
              "    <div>\n",
              "<style scoped>\n",
              "    .dataframe tbody tr th:only-of-type {\n",
              "        vertical-align: middle;\n",
              "    }\n",
              "\n",
              "    .dataframe tbody tr th {\n",
              "        vertical-align: top;\n",
              "    }\n",
              "\n",
              "    .dataframe thead th {\n",
              "        text-align: right;\n",
              "    }\n",
              "</style>\n",
              "<table border=\"1\" class=\"dataframe\">\n",
              "  <thead>\n",
              "    <tr style=\"text-align: right;\">\n",
              "      <th></th>\n",
              "      <th>category</th>\n",
              "      <th>total_orders</th>\n",
              "      <th>total_revenue</th>\n",
              "    </tr>\n",
              "  </thead>\n",
              "  <tbody>\n",
              "    <tr>\n",
              "      <th>0</th>\n",
              "      <td>Home</td>\n",
              "      <td>22</td>\n",
              "      <td>17179.54</td>\n",
              "    </tr>\n",
              "    <tr>\n",
              "      <th>1</th>\n",
              "      <td>Electronics</td>\n",
              "      <td>21</td>\n",
              "      <td>15454.56</td>\n",
              "    </tr>\n",
              "    <tr>\n",
              "      <th>2</th>\n",
              "      <td>Fitness</td>\n",
              "      <td>20</td>\n",
              "      <td>11571.28</td>\n",
              "    </tr>\n",
              "    <tr>\n",
              "      <th>3</th>\n",
              "      <td>Clothing</td>\n",
              "      <td>19</td>\n",
              "      <td>10124.06</td>\n",
              "    </tr>\n",
              "  </tbody>\n",
              "</table>\n",
              "</div>\n",
              "    <div class=\"colab-df-buttons\">\n",
              "\n",
              "  <div class=\"colab-df-container\">\n",
              "    <button class=\"colab-df-convert\" onclick=\"convertToInteractive('df-2fa2761e-ce5b-4358-ae43-fab0af1258a7')\"\n",
              "            title=\"Convert this dataframe to an interactive table.\"\n",
              "            style=\"display:none;\">\n",
              "\n",
              "  <svg xmlns=\"http://www.w3.org/2000/svg\" height=\"24px\" viewBox=\"0 -960 960 960\">\n",
              "    <path d=\"M120-120v-720h720v720H120Zm60-500h600v-160H180v160Zm220 220h160v-160H400v160Zm0 220h160v-160H400v160ZM180-400h160v-160H180v160Zm440 0h160v-160H620v160ZM180-180h160v-160H180v160Zm440 0h160v-160H620v160Z\"/>\n",
              "  </svg>\n",
              "    </button>\n",
              "\n",
              "  <style>\n",
              "    .colab-df-container {\n",
              "      display:flex;\n",
              "      gap: 12px;\n",
              "    }\n",
              "\n",
              "    .colab-df-convert {\n",
              "      background-color: #E8F0FE;\n",
              "      border: none;\n",
              "      border-radius: 50%;\n",
              "      cursor: pointer;\n",
              "      display: none;\n",
              "      fill: #1967D2;\n",
              "      height: 32px;\n",
              "      padding: 0 0 0 0;\n",
              "      width: 32px;\n",
              "    }\n",
              "\n",
              "    .colab-df-convert:hover {\n",
              "      background-color: #E2EBFA;\n",
              "      box-shadow: 0px 1px 2px rgba(60, 64, 67, 0.3), 0px 1px 3px 1px rgba(60, 64, 67, 0.15);\n",
              "      fill: #174EA6;\n",
              "    }\n",
              "\n",
              "    .colab-df-buttons div {\n",
              "      margin-bottom: 4px;\n",
              "    }\n",
              "\n",
              "    [theme=dark] .colab-df-convert {\n",
              "      background-color: #3B4455;\n",
              "      fill: #D2E3FC;\n",
              "    }\n",
              "\n",
              "    [theme=dark] .colab-df-convert:hover {\n",
              "      background-color: #434B5C;\n",
              "      box-shadow: 0px 1px 3px 1px rgba(0, 0, 0, 0.15);\n",
              "      filter: drop-shadow(0px 1px 2px rgba(0, 0, 0, 0.3));\n",
              "      fill: #FFFFFF;\n",
              "    }\n",
              "  </style>\n",
              "\n",
              "    <script>\n",
              "      const buttonEl =\n",
              "        document.querySelector('#df-2fa2761e-ce5b-4358-ae43-fab0af1258a7 button.colab-df-convert');\n",
              "      buttonEl.style.display =\n",
              "        google.colab.kernel.accessAllowed ? 'block' : 'none';\n",
              "\n",
              "      async function convertToInteractive(key) {\n",
              "        const element = document.querySelector('#df-2fa2761e-ce5b-4358-ae43-fab0af1258a7');\n",
              "        const dataTable =\n",
              "          await google.colab.kernel.invokeFunction('convertToInteractive',\n",
              "                                                    [key], {});\n",
              "        if (!dataTable) return;\n",
              "\n",
              "        const docLinkHtml = 'Like what you see? Visit the ' +\n",
              "          '<a target=\"_blank\" href=https://colab.research.google.com/notebooks/data_table.ipynb>data table notebook</a>'\n",
              "          + ' to learn more about interactive tables.';\n",
              "        element.innerHTML = '';\n",
              "        dataTable['output_type'] = 'display_data';\n",
              "        await google.colab.output.renderOutput(dataTable, element);\n",
              "        const docLink = document.createElement('div');\n",
              "        docLink.innerHTML = docLinkHtml;\n",
              "        element.appendChild(docLink);\n",
              "      }\n",
              "    </script>\n",
              "  </div>\n",
              "\n",
              "\n",
              "    <div id=\"df-0a9d31aa-127b-46b8-88f9-e474e2b1fda6\">\n",
              "      <button class=\"colab-df-quickchart\" onclick=\"quickchart('df-0a9d31aa-127b-46b8-88f9-e474e2b1fda6')\"\n",
              "                title=\"Suggest charts\"\n",
              "                style=\"display:none;\">\n",
              "\n",
              "<svg xmlns=\"http://www.w3.org/2000/svg\" height=\"24px\"viewBox=\"0 0 24 24\"\n",
              "     width=\"24px\">\n",
              "    <g>\n",
              "        <path d=\"M19 3H5c-1.1 0-2 .9-2 2v14c0 1.1.9 2 2 2h14c1.1 0 2-.9 2-2V5c0-1.1-.9-2-2-2zM9 17H7v-7h2v7zm4 0h-2V7h2v10zm4 0h-2v-4h2v4z\"/>\n",
              "    </g>\n",
              "</svg>\n",
              "      </button>\n",
              "\n",
              "<style>\n",
              "  .colab-df-quickchart {\n",
              "      --bg-color: #E8F0FE;\n",
              "      --fill-color: #1967D2;\n",
              "      --hover-bg-color: #E2EBFA;\n",
              "      --hover-fill-color: #174EA6;\n",
              "      --disabled-fill-color: #AAA;\n",
              "      --disabled-bg-color: #DDD;\n",
              "  }\n",
              "\n",
              "  [theme=dark] .colab-df-quickchart {\n",
              "      --bg-color: #3B4455;\n",
              "      --fill-color: #D2E3FC;\n",
              "      --hover-bg-color: #434B5C;\n",
              "      --hover-fill-color: #FFFFFF;\n",
              "      --disabled-bg-color: #3B4455;\n",
              "      --disabled-fill-color: #666;\n",
              "  }\n",
              "\n",
              "  .colab-df-quickchart {\n",
              "    background-color: var(--bg-color);\n",
              "    border: none;\n",
              "    border-radius: 50%;\n",
              "    cursor: pointer;\n",
              "    display: none;\n",
              "    fill: var(--fill-color);\n",
              "    height: 32px;\n",
              "    padding: 0;\n",
              "    width: 32px;\n",
              "  }\n",
              "\n",
              "  .colab-df-quickchart:hover {\n",
              "    background-color: var(--hover-bg-color);\n",
              "    box-shadow: 0 1px 2px rgba(60, 64, 67, 0.3), 0 1px 3px 1px rgba(60, 64, 67, 0.15);\n",
              "    fill: var(--button-hover-fill-color);\n",
              "  }\n",
              "\n",
              "  .colab-df-quickchart-complete:disabled,\n",
              "  .colab-df-quickchart-complete:disabled:hover {\n",
              "    background-color: var(--disabled-bg-color);\n",
              "    fill: var(--disabled-fill-color);\n",
              "    box-shadow: none;\n",
              "  }\n",
              "\n",
              "  .colab-df-spinner {\n",
              "    border: 2px solid var(--fill-color);\n",
              "    border-color: transparent;\n",
              "    border-bottom-color: var(--fill-color);\n",
              "    animation:\n",
              "      spin 1s steps(1) infinite;\n",
              "  }\n",
              "\n",
              "  @keyframes spin {\n",
              "    0% {\n",
              "      border-color: transparent;\n",
              "      border-bottom-color: var(--fill-color);\n",
              "      border-left-color: var(--fill-color);\n",
              "    }\n",
              "    20% {\n",
              "      border-color: transparent;\n",
              "      border-left-color: var(--fill-color);\n",
              "      border-top-color: var(--fill-color);\n",
              "    }\n",
              "    30% {\n",
              "      border-color: transparent;\n",
              "      border-left-color: var(--fill-color);\n",
              "      border-top-color: var(--fill-color);\n",
              "      border-right-color: var(--fill-color);\n",
              "    }\n",
              "    40% {\n",
              "      border-color: transparent;\n",
              "      border-right-color: var(--fill-color);\n",
              "      border-top-color: var(--fill-color);\n",
              "    }\n",
              "    60% {\n",
              "      border-color: transparent;\n",
              "      border-right-color: var(--fill-color);\n",
              "    }\n",
              "    80% {\n",
              "      border-color: transparent;\n",
              "      border-right-color: var(--fill-color);\n",
              "      border-bottom-color: var(--fill-color);\n",
              "    }\n",
              "    90% {\n",
              "      border-color: transparent;\n",
              "      border-bottom-color: var(--fill-color);\n",
              "    }\n",
              "  }\n",
              "</style>\n",
              "\n",
              "      <script>\n",
              "        async function quickchart(key) {\n",
              "          const quickchartButtonEl =\n",
              "            document.querySelector('#' + key + ' button');\n",
              "          quickchartButtonEl.disabled = true;  // To prevent multiple clicks.\n",
              "          quickchartButtonEl.classList.add('colab-df-spinner');\n",
              "          try {\n",
              "            const charts = await google.colab.kernel.invokeFunction(\n",
              "                'suggestCharts', [key], {});\n",
              "          } catch (error) {\n",
              "            console.error('Error during call to suggestCharts:', error);\n",
              "          }\n",
              "          quickchartButtonEl.classList.remove('colab-df-spinner');\n",
              "          quickchartButtonEl.classList.add('colab-df-quickchart-complete');\n",
              "        }\n",
              "        (() => {\n",
              "          let quickchartButtonEl =\n",
              "            document.querySelector('#df-0a9d31aa-127b-46b8-88f9-e474e2b1fda6 button');\n",
              "          quickchartButtonEl.style.display =\n",
              "            google.colab.kernel.accessAllowed ? 'block' : 'none';\n",
              "        })();\n",
              "      </script>\n",
              "    </div>\n",
              "\n",
              "    </div>\n",
              "  </div>\n"
            ],
            "application/vnd.google.colaboratory.intrinsic+json": {
              "type": "dataframe",
              "variable_name": "results",
              "summary": "{\n  \"name\": \"results\",\n  \"rows\": 4,\n  \"fields\": [\n    {\n      \"column\": \"category\",\n      \"properties\": {\n        \"dtype\": \"string\",\n        \"num_unique_values\": 4,\n        \"samples\": [\n          \"Electronics\",\n          \"Clothing\",\n          \"Home\"\n        ],\n        \"semantic_type\": \"\",\n        \"description\": \"\"\n      }\n    },\n    {\n      \"column\": \"total_orders\",\n      \"properties\": {\n        \"dtype\": \"Int64\",\n        \"num_unique_values\": 4,\n        \"samples\": [\n          21,\n          19,\n          22\n        ],\n        \"semantic_type\": \"\",\n        \"description\": \"\"\n      }\n    },\n    {\n      \"column\": \"total_revenue\",\n      \"properties\": {\n        \"dtype\": \"number\",\n        \"std\": 3288.825446305515,\n        \"min\": 10124.06,\n        \"max\": 17179.54,\n        \"num_unique_values\": 4,\n        \"samples\": [\n          15454.56,\n          10124.06,\n          17179.54\n        ],\n        \"semantic_type\": \"\",\n        \"description\": \"\"\n      }\n    }\n  ]\n}"
            }
          },
          "metadata": {},
          "execution_count": 50
        }
      ]
    },
    {
      "cell_type": "code",
      "source": [
        "#sample\n",
        "import matplotlib.pyplot as plt\n",
        "\n",
        "results.plot(kind=\"bar\", x=\"category\", y=\"total_revenue\", legend=False)\n",
        "plt.title(\"Revenue by Category\")\n",
        "plt.ylabel(\"Revenue ($)\")\n",
        "plt.xlabel(\"Product Category\")\n",
        "plt.tight_layout()\n",
        "plt.show()\n"
      ],
      "metadata": {
        "colab": {
          "base_uri": "https://localhost:8080/",
          "height": 487
        },
        "id": "0tzNgPCdUoLB",
        "outputId": "a35b99aa-fe54-4152-94ca-c73cbf069d51"
      },
      "execution_count": 51,
      "outputs": [
        {
          "output_type": "display_data",
          "data": {
            "text/plain": [
              "<Figure size 640x480 with 1 Axes>"
            ],
            "image/png": "[encoded data removed]"
          },
          "metadata": {}
        }
      ]
    }
  ]
}